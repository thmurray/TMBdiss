{
 "cells": [
  {
   "cell_type": "code",
   "execution_count": 1,
   "id": "9623a842",
   "metadata": {},
   "outputs": [],
   "source": [
    "import pandas as pd\n",
    "import numpy as np\n",
    "from sklearn.linear_model import LogisticRegressionCV\n",
    "from sklearn.metrics import roc_auc_score, confusion_matrix, plot_roc_curve\n",
    "import matplotlib.pyplot as plt\n",
    "from sklearn.calibration import calibration_curve, CalibratedClassifierCV"
   ]
  },
  {
   "cell_type": "code",
   "execution_count": 2,
   "id": "a709faf9",
   "metadata": {},
   "outputs": [],
   "source": [
    "# Import and organize data"
   ]
  },
  {
   "cell_type": "code",
   "execution_count": 3,
   "id": "fc9752c8",
   "metadata": {},
   "outputs": [],
   "source": [
    "f = open('miRBaseConverter_result.csv', 'r')\n",
    "head = f.readline()\n",
    "body = f.readlines()"
   ]
  },
  {
   "cell_type": "code",
   "execution_count": 4,
   "id": "859a5a1c",
   "metadata": {},
   "outputs": [],
   "source": [
    "f2 = open('miRNA10pluslist.csv', 'r')\n",
    "body2 = f2.read()"
   ]
  },
  {
   "cell_type": "code",
   "execution_count": 5,
   "id": "4fb9f249",
   "metadata": {},
   "outputs": [],
   "source": [
    "plus10data = body2.split(',')\n",
    "plus10data[-2] = 'MIMAT0017950'\n",
    "plus10data = plus10data[0:-1]"
   ]
  },
  {
   "cell_type": "code",
   "execution_count": 6,
   "id": "e591a8e1",
   "metadata": {},
   "outputs": [],
   "source": [
    "newdict = {}\n",
    "\n",
    "for item in body:\n",
    "    line = item.strip('\\n')\n",
    "    line2 = line.split(',')\n",
    "    \n",
    "    newdict[line2[0].strip('\"')] = line2[1].strip('\"').strip('hsa-')"
   ]
  },
  {
   "cell_type": "code",
   "execution_count": 7,
   "id": "19e8c979",
   "metadata": {},
   "outputs": [],
   "source": [
    "plus10dict = {}\n",
    "\n",
    "for item in plus10data:\n",
    "    plus10dict[item] = newdict[item]"
   ]
  },
  {
   "cell_type": "code",
   "execution_count": 8,
   "id": "307363e7",
   "metadata": {},
   "outputs": [
    {
     "data": {
      "text/plain": [
       "2228"
      ]
     },
     "execution_count": 8,
     "metadata": {},
     "output_type": "execute_result"
    }
   ],
   "source": [
    "miRlist = []\n",
    "for item in newdict:\n",
    "    miRlist += [newdict[item]]\n",
    "    \n",
    "len(miRlist)"
   ]
  },
  {
   "cell_type": "code",
   "execution_count": 9,
   "id": "5cd2567e",
   "metadata": {},
   "outputs": [
    {
     "data": {
      "text/plain": [
       "1399"
      ]
     },
     "execution_count": 9,
     "metadata": {},
     "output_type": "execute_result"
    }
   ],
   "source": [
    "plus10miRlist = []\n",
    "for item in plus10dict:\n",
    "    plus10miRlist += [plus10dict[item]]\n",
    "\n",
    "len(plus10miRlist)"
   ]
  },
  {
   "cell_type": "code",
   "execution_count": 10,
   "id": "fb72d9fe",
   "metadata": {},
   "outputs": [],
   "source": [
    "# all miRNA values\n",
    "allmiRNA = pd.read_pickle('allmiRNA')"
   ]
  },
  {
   "cell_type": "code",
   "execution_count": 11,
   "id": "00833dec",
   "metadata": {},
   "outputs": [],
   "source": [
    "# only miRNA values w > 0.1 prevalence in train dataset\n",
    "plus10miRNA = pd.read_pickle('10plusmiRNA')"
   ]
  },
  {
   "cell_type": "code",
   "execution_count": 12,
   "id": "0f29c7b5",
   "metadata": {},
   "outputs": [],
   "source": [
    "#Y10 is threshold of >=10 equals high (1) TMB (59:227 high/low TMB split of train dataset)\n",
    "#Y50 is threshold of >= 4.3 equals high (1) TMB (50:50 split of train dataset (143:143))"
   ]
  },
  {
   "cell_type": "code",
   "execution_count": 13,
   "id": "25ad78a9",
   "metadata": {},
   "outputs": [],
   "source": [
    "allData = allmiRNA.values"
   ]
  },
  {
   "cell_type": "code",
   "execution_count": 14,
   "id": "149ed2d9",
   "metadata": {},
   "outputs": [],
   "source": [
    "allX = allData[:, 2:-2]\n",
    "allY10 = allData[:, -2]\n",
    "allY50 = allData[:, -1]"
   ]
  },
  {
   "cell_type": "code",
   "execution_count": 15,
   "id": "592f44a0",
   "metadata": {},
   "outputs": [],
   "source": [
    "plus10Data = plus10miRNA.values"
   ]
  },
  {
   "cell_type": "code",
   "execution_count": 16,
   "id": "4fcaa44d",
   "metadata": {},
   "outputs": [],
   "source": [
    "plus10X = plus10Data[:, 2:-2]\n",
    "plus10Y10 = plus10Data[:, -2]\n",
    "plus10Y50 = plus10Data[:, -1]"
   ]
  },
  {
   "cell_type": "code",
   "execution_count": 17,
   "id": "d0d456cf",
   "metadata": {},
   "outputs": [],
   "source": [
    "# **TEST DATA**"
   ]
  },
  {
   "cell_type": "code",
   "execution_count": 18,
   "id": "fc2a6943",
   "metadata": {},
   "outputs": [],
   "source": [
    "TESTallmiRNA = pd.read_pickle('TEST_allmiRNA')"
   ]
  },
  {
   "cell_type": "code",
   "execution_count": 19,
   "id": "27d1336f",
   "metadata": {},
   "outputs": [],
   "source": [
    "TESTplus10miRNA = pd.read_pickle('TEST_10plusmiRNA')"
   ]
  },
  {
   "cell_type": "code",
   "execution_count": 20,
   "id": "2af575a6",
   "metadata": {},
   "outputs": [],
   "source": [
    "TEST_allData = TESTallmiRNA.values"
   ]
  },
  {
   "cell_type": "code",
   "execution_count": 21,
   "id": "aea1dbac",
   "metadata": {},
   "outputs": [],
   "source": [
    "TEST_allX = TEST_allData[:, 2:-2]\n",
    "TEST_allY10 = TEST_allData[:, -2]\n",
    "TEST_allY50 = TEST_allData[:, -1]"
   ]
  },
  {
   "cell_type": "code",
   "execution_count": 22,
   "id": "f2f3deb8",
   "metadata": {},
   "outputs": [],
   "source": [
    "TEST_plus10Data = TESTplus10miRNA.values"
   ]
  },
  {
   "cell_type": "code",
   "execution_count": 23,
   "id": "345fc15d",
   "metadata": {},
   "outputs": [],
   "source": [
    "TEST_plus10X = TEST_plus10Data[:, 2:-2]\n",
    "TEST_plus10Y10 = TEST_plus10Data[:, -2]\n",
    "TEST_plus10Y50 = TEST_plus10Data[:, -1]"
   ]
  },
  {
   "cell_type": "code",
   "execution_count": 24,
   "id": "c3526d7a",
   "metadata": {},
   "outputs": [],
   "source": [
    "modelallY10 = allY10.astype(int)\n",
    "modelallY50 = allY50.astype(int)\n",
    "modelplus10Y10 = plus10Y10.astype(int)\n",
    "modelplus10Y50 = plus10Y50.astype(int)"
   ]
  },
  {
   "cell_type": "code",
   "execution_count": 25,
   "id": "e6e908ac",
   "metadata": {},
   "outputs": [],
   "source": [
    "# Model 1: allX, allY10"
   ]
  },
  {
   "cell_type": "code",
   "execution_count": 26,
   "id": "7132622c",
   "metadata": {},
   "outputs": [],
   "source": [
    "model1 = LogisticRegressionCV(cv = 5, scoring = 'roc_auc', n_jobs = -1, max_iter = 500, penalty = 'l2')"
   ]
  },
  {
   "cell_type": "code",
   "execution_count": 27,
   "id": "ce4c7692",
   "metadata": {},
   "outputs": [
    {
     "data": {
      "text/plain": [
       "{'Cs': 10,\n",
       " 'class_weight': None,\n",
       " 'cv': 5,\n",
       " 'dual': False,\n",
       " 'fit_intercept': True,\n",
       " 'intercept_scaling': 1.0,\n",
       " 'l1_ratios': None,\n",
       " 'max_iter': 500,\n",
       " 'multi_class': 'auto',\n",
       " 'n_jobs': -1,\n",
       " 'penalty': 'l2',\n",
       " 'random_state': None,\n",
       " 'refit': True,\n",
       " 'scoring': 'roc_auc',\n",
       " 'solver': 'lbfgs',\n",
       " 'tol': 0.0001,\n",
       " 'verbose': 0}"
      ]
     },
     "execution_count": 27,
     "metadata": {},
     "output_type": "execute_result"
    }
   ],
   "source": [
    "model1.get_params()"
   ]
  },
  {
   "cell_type": "code",
   "execution_count": 28,
   "id": "40f4a80f",
   "metadata": {},
   "outputs": [
    {
     "data": {
      "text/plain": [
       "LogisticRegressionCV(cv=5, max_iter=500, n_jobs=-1, scoring='roc_auc')"
      ]
     },
     "execution_count": 28,
     "metadata": {},
     "output_type": "execute_result"
    }
   ],
   "source": [
    "model1.fit(allX, modelallY10)"
   ]
  },
  {
   "cell_type": "code",
   "execution_count": 29,
   "id": "1228e983",
   "metadata": {},
   "outputs": [
    {
     "data": {
      "text/plain": [
       "0.8975584260434555"
      ]
     },
     "execution_count": 29,
     "metadata": {},
     "output_type": "execute_result"
    }
   ],
   "source": [
    "roc_auc_score(allY10.astype(int), model1.predict_proba(allX)[:, 1])"
   ]
  },
  {
   "cell_type": "code",
   "execution_count": 30,
   "id": "66fb2c6f",
   "metadata": {},
   "outputs": [
    {
     "data": {
      "text/plain": [
       "0.8564532520325202"
      ]
     },
     "execution_count": 30,
     "metadata": {},
     "output_type": "execute_result"
    }
   ],
   "source": [
    "roc_auc_score(TEST_allY10.astype(int), model1.predict_proba(TEST_allX)[:, 1])"
   ]
  },
  {
   "cell_type": "code",
   "execution_count": 31,
   "id": "7980f52e",
   "metadata": {},
   "outputs": [],
   "source": [
    "plusnumList1 = []\n",
    "for num in model1.coef_[0]:\n",
    "    if num >= 0.01:\n",
    "        plusnumList1 += [num]"
   ]
  },
  {
   "cell_type": "code",
   "execution_count": 32,
   "id": "b70387bf",
   "metadata": {},
   "outputs": [],
   "source": [
    "negnumList1 = []\n",
    "for num in model1.coef_[0]:\n",
    "    if num <= -0.01:\n",
    "        negnumList1 += [num]"
   ]
  },
  {
   "cell_type": "code",
   "execution_count": 33,
   "id": "ccb3f41b",
   "metadata": {},
   "outputs": [],
   "source": [
    "model1df = pd.DataFrame(columns = miRlist)\n",
    "model1df.loc[0] = model1.coef_[0].tolist()"
   ]
  },
  {
   "cell_type": "code",
   "execution_count": 34,
   "id": "12307d67",
   "metadata": {},
   "outputs": [
    {
     "data": {
      "text/plain": [
       "miR-105-5p     0.029170\n",
       "miR-196b-5p    0.027109\n",
       "miR-767-5p     0.024431\n",
       "miR-31-5p      0.021144\n",
       "miR-675-3p     0.017897\n",
       "miR-31-3p      0.014741\n",
       "miR-372-3p     0.013359\n",
       "miR-7702       0.012322\n",
       "miR-137-3p     0.011659\n",
       "miR-210-3p     0.011481\n",
       "miR-2355-5p    0.011381\n",
       "miR-767-3p     0.010539\n",
       "miR-519a-5p    0.010402\n",
       "miR-744-3p     0.010016\n",
       "Name: 0, dtype: float64"
      ]
     },
     "execution_count": 34,
     "metadata": {},
     "output_type": "execute_result"
    }
   ],
   "source": [
    "m1plus01 = model1df.loc[0].nlargest(14)\n",
    "\n",
    "m1plus01"
   ]
  },
  {
   "cell_type": "code",
   "execution_count": 35,
   "id": "6d3d112d",
   "metadata": {},
   "outputs": [],
   "source": [
    "m1plus01list = []\n",
    "for name in m1plus01.index:\n",
    "    m1plus01list += [name]"
   ]
  },
  {
   "cell_type": "code",
   "execution_count": 36,
   "id": "77dd89b9",
   "metadata": {},
   "outputs": [
    {
     "data": {
      "text/plain": [
       "miR-508-3p    -0.025452\n",
       "miR-509-3p    -0.022833\n",
       "miR-514a-3p   -0.021810\n",
       "miR-187-3p    -0.021076\n",
       "miR-552-5p    -0.020865\n",
       "miR-552-3p    -0.019756\n",
       "miR-135b-5p   -0.018369\n",
       "miR-205-5p    -0.017603\n",
       "miR-582-3p    -0.014427\n",
       "miR-196a-5p   -0.013018\n",
       "miR-582-5p    -0.012341\n",
       "miR-508-5p    -0.011812\n",
       "miR-486-5p    -0.011674\n",
       "miR-192-5p    -0.011442\n",
       "miR-451       -0.010955\n",
       "miR-194-5p    -0.010840\n",
       "miR-891a-5p   -0.010574\n",
       "miR-1-3p      -0.010354\n",
       "miR-664a-3p   -0.010340\n",
       "let-7c-5p     -0.010194\n",
       "Name: 0, dtype: float64"
      ]
     },
     "execution_count": 36,
     "metadata": {},
     "output_type": "execute_result"
    }
   ],
   "source": [
    "m1minus01 = model1df.loc[0].nsmallest(20)\n",
    "\n",
    "m1minus01"
   ]
  },
  {
   "cell_type": "code",
   "execution_count": 37,
   "id": "fe64ae89",
   "metadata": {},
   "outputs": [],
   "source": [
    "m1minus01list = []\n",
    "for name in m1minus01.index:\n",
    "    m1minus01list += [name]"
   ]
  },
  {
   "cell_type": "code",
   "execution_count": 38,
   "id": "77cdf1b8",
   "metadata": {},
   "outputs": [],
   "source": [
    "# Confusion matrices w different thresholds"
   ]
  },
  {
   "cell_type": "code",
   "execution_count": 39,
   "id": "23f0d781",
   "metadata": {},
   "outputs": [
    {
     "data": {
      "text/plain": [
       "array([[123,   0],\n",
       "       [ 31,   1]])"
      ]
     },
     "execution_count": 39,
     "metadata": {},
     "output_type": "execute_result"
    }
   ],
   "source": [
    "# 0.5 threshold\n",
    "confusion_matrix(TEST_allY10.astype(int), model1.predict(TEST_allX))"
   ]
  },
  {
   "cell_type": "code",
   "execution_count": 40,
   "id": "21af1fac",
   "metadata": {},
   "outputs": [
    {
     "data": {
      "text/plain": [
       "array([[122,   1],\n",
       "       [ 27,   5]])"
      ]
     },
     "execution_count": 40,
     "metadata": {},
     "output_type": "execute_result"
    }
   ],
   "source": [
    "# 0.4 threshold\n",
    "y_pred1_4 = (model1.predict_proba(TEST_allX)[:, 1] > 0.4).astype('float')\n",
    "confusion_matrix(TEST_allY10.astype(int), y_pred1_4)"
   ]
  },
  {
   "cell_type": "code",
   "execution_count": 41,
   "id": "d5b4ec76",
   "metadata": {},
   "outputs": [
    {
     "data": {
      "text/plain": [
       "array([[117,   6],\n",
       "       [ 16,  16]])"
      ]
     },
     "execution_count": 41,
     "metadata": {},
     "output_type": "execute_result"
    }
   ],
   "source": [
    "# 0.3 threshold\n",
    "y_pred1_3 = (model1.predict_proba(TEST_allX)[:, 1] > 0.3).astype('float')\n",
    "confusion_matrix(TEST_allY10.astype(int), y_pred1_3)"
   ]
  },
  {
   "cell_type": "code",
   "execution_count": 42,
   "id": "99f72503",
   "metadata": {},
   "outputs": [
    {
     "data": {
      "text/plain": [
       "array([[108,  15],\n",
       "       [ 12,  20]])"
      ]
     },
     "execution_count": 42,
     "metadata": {},
     "output_type": "execute_result"
    }
   ],
   "source": [
    "# 0.25 threshold\n",
    "y_pred1_25 = (model1.predict_proba(TEST_allX)[:, 1] > 0.25).astype('float')\n",
    "confusion_matrix(TEST_allY10.astype(int), y_pred1_25)"
   ]
  },
  {
   "cell_type": "code",
   "execution_count": 43,
   "id": "8177ca72",
   "metadata": {},
   "outputs": [
    {
     "data": {
      "text/plain": [
       "array([[93, 30],\n",
       "       [ 5, 27]])"
      ]
     },
     "execution_count": 43,
     "metadata": {},
     "output_type": "execute_result"
    }
   ],
   "source": [
    "# 0.2 threshold\n",
    "y_pred1_2 = (model1.predict_proba(TEST_allX)[:, 1] > 0.2).astype('float')\n",
    "confusion_matrix(TEST_allY10.astype(int), y_pred1_2)"
   ]
  },
  {
   "cell_type": "code",
   "execution_count": 44,
   "id": "b5b6e998",
   "metadata": {},
   "outputs": [
    {
     "data": {
      "text/plain": [
       "array([[57, 66],\n",
       "       [ 3, 29]])"
      ]
     },
     "execution_count": 44,
     "metadata": {},
     "output_type": "execute_result"
    }
   ],
   "source": [
    "# 0.15 threshold\n",
    "y_pred1_15 = (model1.predict_proba(TEST_allX)[:, 1] > 0.15).astype('float')\n",
    "confusion_matrix(TEST_allY10.astype(int), y_pred1_15)"
   ]
  },
  {
   "cell_type": "code",
   "execution_count": 45,
   "id": "c969fb5e",
   "metadata": {
    "scrolled": true
   },
   "outputs": [
    {
     "name": "stderr",
     "output_type": "stream",
     "text": [
      "/Library/Frameworks/Python.framework/Versions/3.9/lib/python3.9/site-packages/sklearn/utils/deprecation.py:87: FutureWarning: Function plot_roc_curve is deprecated; Function :func:`plot_roc_curve` is deprecated in 1.0 and will be removed in 1.2. Use one of the class methods: :meth:`sklearn.metric.RocCurveDisplay.from_predictions` or :meth:`sklearn.metric.RocCurveDisplay.from_estimator`.\n",
      "  warnings.warn(msg, category=FutureWarning)\n",
      "/Library/Frameworks/Python.framework/Versions/3.9/lib/python3.9/site-packages/sklearn/utils/deprecation.py:87: FutureWarning: Function plot_roc_curve is deprecated; Function :func:`plot_roc_curve` is deprecated in 1.0 and will be removed in 1.2. Use one of the class methods: :meth:`sklearn.metric.RocCurveDisplay.from_predictions` or :meth:`sklearn.metric.RocCurveDisplay.from_estimator`.\n",
      "  warnings.warn(msg, category=FutureWarning)\n"
     ]
    },
    {
     "data": {
      "image/png": "[encoded data removed]",
      "text/plain": [
       "<Figure size 432x288 with 1 Axes>"
      ]
     },
     "metadata": {
      "needs_background": "light"
     },
     "output_type": "display_data"
    }
   ],
   "source": [
    "train1_disp = plot_roc_curve(model1, allX, allY10.astype(int))\n",
    "test1_disp = plot_roc_curve(model1, TEST_allX, TEST_allY10.astype(int), ax = train1_disp.ax_)\n",
    "test1_disp.figure_.suptitle('ROC curve')\n",
    "\n",
    "plt.show()"
   ]
  },
  {
   "cell_type": "code",
   "execution_count": 46,
   "id": "af2641da",
   "metadata": {},
   "outputs": [],
   "source": [
    "# Bootstrapping"
   ]
  },
  {
   "cell_type": "code",
   "execution_count": 47,
   "id": "7abc3c77",
   "metadata": {},
   "outputs": [],
   "source": [
    "y_pred1 = model1.predict_proba(TEST_allX)[:, 1]\n",
    "y_true1 = TEST_allY10.astype(int)"
   ]
  },
  {
   "cell_type": "code",
   "execution_count": 48,
   "id": "b4107b05",
   "metadata": {},
   "outputs": [],
   "source": [
    "n_bootstraps = 1000\n",
    "rng_seed = 5\n",
    "bootstrapped_scores = []\n",
    "\n",
    "rng = np.random.RandomState(rng_seed)\n",
    "for i in range(n_bootstraps):\n",
    "    indices = rng.randint(0, len(y_pred1), len(y_pred1))\n",
    "    if len(np.unique(y_true1[indices])) < 2:\n",
    "        continue\n",
    "    \n",
    "    score = roc_auc_score(y_true1[indices], y_pred1[indices])\n",
    "    bootstrapped_scores.append(score)"
   ]
  },
  {
   "cell_type": "code",
   "execution_count": 49,
   "id": "9a4ce276",
   "metadata": {
    "scrolled": true
   },
   "outputs": [
    {
     "data": {
      "image/png": "[encoded data removed]",
      "text/plain": [
       "<Figure size 432x288 with 1 Axes>"
      ]
     },
     "metadata": {
      "needs_background": "light"
     },
     "output_type": "display_data"
    }
   ],
   "source": [
    "import matplotlib.pyplot as plt\n",
    "plt.hist(bootstrapped_scores, bins=50)\n",
    "plt.title('Histogram of the bootstrapped ROC AUC scores')\n",
    "plt.show()"
   ]
  },
  {
   "cell_type": "code",
   "execution_count": 50,
   "id": "d0dca1e3",
   "metadata": {},
   "outputs": [
    {
     "name": "stdout",
     "output_type": "stream",
     "text": [
      "Confidence interval for the score: [0.784 - 0.919]\n"
     ]
    }
   ],
   "source": [
    "sorted_scores = np.array(bootstrapped_scores)\n",
    "sorted_scores.sort()\n",
    "\n",
    "# Computing the lower and upper bound of the 90% confidence interval\n",
    "# You can change the bounds percentiles to 0.025 and 0.975 to get\n",
    "# a 95% confidence interval instead.\n",
    "confidence_lower = sorted_scores[int(0.05 * len(sorted_scores))]\n",
    "confidence_upper = sorted_scores[int(0.95 * len(sorted_scores))]\n",
    "print(\"Confidence interval for the score: [{:0.3f} - {:0.3}]\".format(\n",
    "    confidence_lower, confidence_upper))"
   ]
  },
  {
   "cell_type": "code",
   "execution_count": 51,
   "id": "72bd9031",
   "metadata": {},
   "outputs": [
    {
     "data": {
      "text/plain": [
       "0.039998451782447646"
      ]
     },
     "execution_count": 51,
     "metadata": {},
     "output_type": "execute_result"
    }
   ],
   "source": [
    "std_dev1 = np.std(sorted_scores)\n",
    "std_dev1"
   ]
  },
  {
   "cell_type": "code",
   "execution_count": 52,
   "id": "a281729a",
   "metadata": {},
   "outputs": [
    {
     "data": {
      "text/plain": [
       "0.8549862921329776"
      ]
     },
     "execution_count": 52,
     "metadata": {},
     "output_type": "execute_result"
    }
   ],
   "source": [
    "np.mean(sorted_scores)"
   ]
  },
  {
   "cell_type": "code",
   "execution_count": 53,
   "id": "b7461b49",
   "metadata": {},
   "outputs": [
    {
     "data": {
      "text/plain": [
       "0.9484247967479675"
      ]
     },
     "execution_count": 53,
     "metadata": {},
     "output_type": "execute_result"
    }
   ],
   "source": [
    "np.max(sorted_scores)"
   ]
  },
  {
   "cell_type": "code",
   "execution_count": 54,
   "id": "257a31b1",
   "metadata": {},
   "outputs": [
    {
     "data": {
      "text/plain": [
       "0.7094861660079052"
      ]
     },
     "execution_count": 54,
     "metadata": {},
     "output_type": "execute_result"
    }
   ],
   "source": [
    "np.min(sorted_scores)"
   ]
  },
  {
   "cell_type": "code",
   "execution_count": 55,
   "id": "7eba02a4",
   "metadata": {},
   "outputs": [],
   "source": [
    "# Calibration curve"
   ]
  },
  {
   "cell_type": "code",
   "execution_count": 56,
   "id": "d69c61ae",
   "metadata": {},
   "outputs": [],
   "source": [
    "prob_true, prob_pred = calibration_curve(y_true1, y_pred1, n_bins = 20)"
   ]
  },
  {
   "cell_type": "code",
   "execution_count": 57,
   "id": "706589db",
   "metadata": {},
   "outputs": [
    {
     "data": {
      "text/plain": [
       "array([0.        , 0.07317073, 0.05263158, 0.31818182, 0.30769231,\n",
       "       0.66666667, 0.75      , 0.8       , 1.        ])"
      ]
     },
     "execution_count": 57,
     "metadata": {},
     "output_type": "execute_result"
    }
   ],
   "source": [
    "prob_true"
   ]
  },
  {
   "cell_type": "code",
   "execution_count": 58,
   "id": "09e394d6",
   "metadata": {},
   "outputs": [
    {
     "data": {
      "text/plain": [
       "array([0.08115995, 0.12490835, 0.17494111, 0.22231696, 0.26588461,\n",
       "       0.32277863, 0.36746391, 0.42136263, 0.777589  ])"
      ]
     },
     "execution_count": 58,
     "metadata": {},
     "output_type": "execute_result"
    }
   ],
   "source": [
    "prob_pred"
   ]
  },
  {
   "cell_type": "code",
   "execution_count": 59,
   "id": "4f4d72fb",
   "metadata": {},
   "outputs": [],
   "source": [
    "cal_clf1 = CalibratedClassifierCV(base_estimator = model1, cv = 'prefit')"
   ]
  },
  {
   "cell_type": "code",
   "execution_count": 60,
   "id": "964dc922",
   "metadata": {},
   "outputs": [
    {
     "data": {
      "text/plain": [
       "CalibratedClassifierCV(base_estimator=LogisticRegressionCV(cv=5, max_iter=500,\n",
       "                                                           n_jobs=-1,\n",
       "                                                           scoring='roc_auc'),\n",
       "                       cv='prefit')"
      ]
     },
     "execution_count": 60,
     "metadata": {},
     "output_type": "execute_result"
    }
   ],
   "source": [
    "cal_clf1.fit(TEST_allX, TEST_allY10.astype(int))"
   ]
  },
  {
   "cell_type": "code",
   "execution_count": 61,
   "id": "86aefe01",
   "metadata": {},
   "outputs": [
    {
     "data": {
      "text/plain": [
       "0.8580645161290322"
      ]
     },
     "execution_count": 61,
     "metadata": {},
     "output_type": "execute_result"
    }
   ],
   "source": [
    "cal_clf1.score(TEST_allX, TEST_allY10.astype(int))"
   ]
  },
  {
   "cell_type": "code",
   "execution_count": 62,
   "id": "19c7fcbd",
   "metadata": {},
   "outputs": [
    {
     "data": {
      "text/plain": [
       "array([[117,   6],\n",
       "       [ 16,  16]])"
      ]
     },
     "execution_count": 62,
     "metadata": {},
     "output_type": "execute_result"
    }
   ],
   "source": [
    "confusion_matrix(TEST_allY10.astype(int), cal_clf1.predict(TEST_allX))"
   ]
  },
  {
   "cell_type": "code",
   "execution_count": null,
   "id": "3bacaef3",
   "metadata": {},
   "outputs": [],
   "source": []
  },
  {
   "cell_type": "code",
   "execution_count": null,
   "id": "3790c3b3",
   "metadata": {},
   "outputs": [],
   "source": []
  },
  {
   "cell_type": "code",
   "execution_count": 63,
   "id": "141095be",
   "metadata": {},
   "outputs": [],
   "source": [
    "# Model 2: plus10X, plus10Y10 (only using miRNAs with prominence > 0.1)"
   ]
  },
  {
   "cell_type": "code",
   "execution_count": 64,
   "id": "1b0d6dd6",
   "metadata": {},
   "outputs": [],
   "source": [
    "model2 = LogisticRegressionCV(cv = 5, scoring = 'roc_auc', n_jobs = -1, max_iter = 500, penalty = 'l2')"
   ]
  },
  {
   "cell_type": "code",
   "execution_count": 65,
   "id": "b5f103e8",
   "metadata": {},
   "outputs": [
    {
     "data": {
      "text/plain": [
       "LogisticRegressionCV(cv=5, max_iter=500, n_jobs=-1, scoring='roc_auc')"
      ]
     },
     "execution_count": 65,
     "metadata": {},
     "output_type": "execute_result"
    }
   ],
   "source": [
    "model2.fit(plus10X, modelplus10Y10)"
   ]
  },
  {
   "cell_type": "code",
   "execution_count": 66,
   "id": "84aae37c",
   "metadata": {},
   "outputs": [],
   "source": [
    "model2df = pd.DataFrame(columns = plus10miRlist)"
   ]
  },
  {
   "cell_type": "code",
   "execution_count": 67,
   "id": "8815a6cb",
   "metadata": {},
   "outputs": [],
   "source": [
    "model2df.loc[0] = model2.coef_[0].tolist()"
   ]
  },
  {
   "cell_type": "code",
   "execution_count": 68,
   "id": "896be28a",
   "metadata": {},
   "outputs": [
    {
     "data": {
      "text/plain": [
       "miR-105-5p     0.029266\n",
       "miR-196b-5p    0.027182\n",
       "miR-767-5p     0.024520\n",
       "miR-31-5p      0.021094\n",
       "miR-675-3p     0.017992\n",
       "miR-31-3p      0.014695\n",
       "miR-372-3p     0.013566\n",
       "miR-7702       0.012367\n",
       "miR-137-3p     0.011665\n",
       "miR-210-3p     0.011570\n",
       "miR-2355-5p    0.011431\n",
       "miR-767-3p     0.010576\n",
       "miR-519a-5p    0.010552\n",
       "miR-744-3p     0.010009\n",
       "Name: 0, dtype: float64"
      ]
     },
     "execution_count": 68,
     "metadata": {},
     "output_type": "execute_result"
    }
   ],
   "source": [
    "m2plus01 = model2df.loc[0].nlargest(14)\n",
    "m2plus01"
   ]
  },
  {
   "cell_type": "code",
   "execution_count": 69,
   "id": "e129db4c",
   "metadata": {},
   "outputs": [],
   "source": [
    "m2plus01list = []\n",
    "for name in m2plus01.index:\n",
    "    m2plus01list += [name]"
   ]
  },
  {
   "cell_type": "code",
   "execution_count": 70,
   "id": "4abdb8aa",
   "metadata": {},
   "outputs": [
    {
     "data": {
      "text/plain": [
       "miR-508-3p    -0.025469\n",
       "miR-509-3p    -0.022838\n",
       "miR-514a-3p   -0.021808\n",
       "miR-187-3p    -0.021116\n",
       "miR-552-5p    -0.020879\n",
       "miR-552-3p    -0.019765\n",
       "miR-135b-5p   -0.018370\n",
       "miR-205-5p    -0.017608\n",
       "miR-582-3p    -0.014379\n",
       "miR-196a-5p   -0.012935\n",
       "miR-582-5p    -0.012337\n",
       "miR-508-5p    -0.011814\n",
       "miR-486-5p    -0.011650\n",
       "miR-192-5p    -0.011350\n",
       "miR-451       -0.010907\n",
       "miR-194-5p    -0.010752\n",
       "miR-891a-5p   -0.010589\n",
       "miR-1-3p      -0.010369\n",
       "miR-664a-3p   -0.010334\n",
       "let-7c-5p     -0.010109\n",
       "Name: 0, dtype: float64"
      ]
     },
     "execution_count": 70,
     "metadata": {},
     "output_type": "execute_result"
    }
   ],
   "source": [
    "m2minus01 = model2df.loc[0].nsmallest(20)\n",
    "m2minus01"
   ]
  },
  {
   "cell_type": "code",
   "execution_count": 71,
   "id": "716cc720",
   "metadata": {},
   "outputs": [],
   "source": [
    "m2minus01list = []\n",
    "for name in m2minus01.index:\n",
    "    m2minus01list += [name]"
   ]
  },
  {
   "cell_type": "code",
   "execution_count": 72,
   "id": "a8122aa4",
   "metadata": {},
   "outputs": [
    {
     "name": "stderr",
     "output_type": "stream",
     "text": [
      "/Library/Frameworks/Python.framework/Versions/3.9/lib/python3.9/site-packages/sklearn/utils/deprecation.py:87: FutureWarning: Function plot_roc_curve is deprecated; Function :func:`plot_roc_curve` is deprecated in 1.0 and will be removed in 1.2. Use one of the class methods: :meth:`sklearn.metric.RocCurveDisplay.from_predictions` or :meth:`sklearn.metric.RocCurveDisplay.from_estimator`.\n",
      "  warnings.warn(msg, category=FutureWarning)\n",
      "/Library/Frameworks/Python.framework/Versions/3.9/lib/python3.9/site-packages/sklearn/utils/deprecation.py:87: FutureWarning: Function plot_roc_curve is deprecated; Function :func:`plot_roc_curve` is deprecated in 1.0 and will be removed in 1.2. Use one of the class methods: :meth:`sklearn.metric.RocCurveDisplay.from_predictions` or :meth:`sklearn.metric.RocCurveDisplay.from_estimator`.\n",
      "  warnings.warn(msg, category=FutureWarning)\n"
     ]
    },
    {
     "data": {
      "image/png": "[encoded data removed]",
      "text/plain": [
       "<Figure size 432x288 with 1 Axes>"
      ]
     },
     "metadata": {
      "needs_background": "light"
     },
     "output_type": "display_data"
    }
   ],
   "source": [
    "train2_disp = plot_roc_curve(model2, plus10X, plus10Y10.astype(int))\n",
    "test2_disp = plot_roc_curve(model2, TEST_plus10X, TEST_plus10Y10.astype(int), ax = train2_disp.ax_)\n",
    "test2_disp.figure_.suptitle('ROC curve')\n",
    "\n",
    "plt.show()"
   ]
  },
  {
   "cell_type": "code",
   "execution_count": 73,
   "id": "cd7a6d2b",
   "metadata": {},
   "outputs": [],
   "source": [
    "# Bootstrapping"
   ]
  },
  {
   "cell_type": "code",
   "execution_count": 74,
   "id": "54ff87c2",
   "metadata": {},
   "outputs": [],
   "source": [
    "y_pred2 = model2.predict_proba(TEST_plus10X)[:, 1]\n",
    "y_true2 = TEST_allY10.astype(int)"
   ]
  },
  {
   "cell_type": "code",
   "execution_count": 75,
   "id": "9232ca81",
   "metadata": {},
   "outputs": [],
   "source": [
    "n_bootstraps = 1000\n",
    "rng_seed = 6\n",
    "bootstrapped_scores2 = []\n",
    "\n",
    "rng = np.random.RandomState(rng_seed)\n",
    "for i in range(n_bootstraps):\n",
    "    indices = rng.randint(0, len(y_pred2), len(y_pred2))\n",
    "    if len(np.unique(y_true2[indices])) < 2:\n",
    "        continue\n",
    "    \n",
    "    score = roc_auc_score(y_true2[indices], y_pred2[indices])\n",
    "    bootstrapped_scores2.append(score)"
   ]
  },
  {
   "cell_type": "code",
   "execution_count": 76,
   "id": "730e4fba",
   "metadata": {},
   "outputs": [
    {
     "data": {
      "image/png": "[encoded data removed]",
      "text/plain": [
       "<Figure size 432x288 with 1 Axes>"
      ]
     },
     "metadata": {
      "needs_background": "light"
     },
     "output_type": "display_data"
    }
   ],
   "source": [
    "import matplotlib.pyplot as plt\n",
    "plt.hist(bootstrapped_scores2, bins=50)\n",
    "plt.title('Histogram of the bootstrapped ROC AUC scores')\n",
    "plt.show()"
   ]
  },
  {
   "cell_type": "code",
   "execution_count": 77,
   "id": "3a8305dd",
   "metadata": {},
   "outputs": [
    {
     "name": "stdout",
     "output_type": "stream",
     "text": [
      "Confidence interval for the score: [0.783 - 0.916]\n"
     ]
    }
   ],
   "source": [
    "sorted_scores2 = np.array(bootstrapped_scores2)\n",
    "sorted_scores2.sort()\n",
    "\n",
    "# Computing the lower and upper bound of the 90% confidence interval\n",
    "# You can change the bounds percentiles to 0.025 and 0.975 to get\n",
    "# a 95% confidence interval instead.\n",
    "confidence_lower2 = sorted_scores2[int(0.05 * len(sorted_scores2))]\n",
    "confidence_upper2 = sorted_scores2[int(0.95 * len(sorted_scores2))]\n",
    "print(\"Confidence interval for the score: [{:0.3f} - {:0.3}]\".format(\n",
    "    confidence_lower2, confidence_upper2))"
   ]
  },
  {
   "cell_type": "code",
   "execution_count": null,
   "id": "81ca3ff1",
   "metadata": {},
   "outputs": [],
   "source": []
  },
  {
   "cell_type": "code",
   "execution_count": null,
   "id": "bfccb916",
   "metadata": {},
   "outputs": [],
   "source": []
  },
  {
   "cell_type": "code",
   "execution_count": 78,
   "id": "ddd3eabd",
   "metadata": {},
   "outputs": [],
   "source": [
    "# Model 3: allX, allY50 (50:50 split of high/low TMB in train set (4.3 threshold for H/L))"
   ]
  },
  {
   "cell_type": "code",
   "execution_count": 79,
   "id": "fbf6db67",
   "metadata": {},
   "outputs": [],
   "source": [
    "model3 = LogisticRegressionCV(cv = 5, scoring = 'roc_auc', n_jobs = -1, max_iter = 500, penalty = 'l2')"
   ]
  },
  {
   "cell_type": "code",
   "execution_count": 80,
   "id": "287ebf00",
   "metadata": {},
   "outputs": [
    {
     "data": {
      "text/plain": [
       "LogisticRegressionCV(cv=5, max_iter=500, n_jobs=-1, scoring='roc_auc')"
      ]
     },
     "execution_count": 80,
     "metadata": {},
     "output_type": "execute_result"
    }
   ],
   "source": [
    "model3.fit(allX, modelallY50)"
   ]
  },
  {
   "cell_type": "code",
   "execution_count": 81,
   "id": "88d9a5b7",
   "metadata": {},
   "outputs": [
    {
     "data": {
      "text/plain": [
       "0.9648882585945524"
      ]
     },
     "execution_count": 81,
     "metadata": {},
     "output_type": "execute_result"
    }
   ],
   "source": [
    "roc_auc_score(allY50.astype(int), model3.predict_proba(allX)[:, 1])"
   ]
  },
  {
   "cell_type": "code",
   "execution_count": 82,
   "id": "df82bac9",
   "metadata": {},
   "outputs": [
    {
     "data": {
      "text/plain": [
       "0.7985299031072502"
      ]
     },
     "execution_count": 82,
     "metadata": {},
     "output_type": "execute_result"
    }
   ],
   "source": [
    "roc_auc_score(TEST_allY50.astype(int), model3.predict_proba(TEST_allX)[:, 1])"
   ]
  },
  {
   "cell_type": "code",
   "execution_count": 83,
   "id": "3ae0770f",
   "metadata": {},
   "outputs": [
    {
     "name": "stderr",
     "output_type": "stream",
     "text": [
      "/Library/Frameworks/Python.framework/Versions/3.9/lib/python3.9/site-packages/sklearn/utils/deprecation.py:87: FutureWarning: Function plot_roc_curve is deprecated; Function :func:`plot_roc_curve` is deprecated in 1.0 and will be removed in 1.2. Use one of the class methods: :meth:`sklearn.metric.RocCurveDisplay.from_predictions` or :meth:`sklearn.metric.RocCurveDisplay.from_estimator`.\n",
      "  warnings.warn(msg, category=FutureWarning)\n",
      "/Library/Frameworks/Python.framework/Versions/3.9/lib/python3.9/site-packages/sklearn/utils/deprecation.py:87: FutureWarning: Function plot_roc_curve is deprecated; Function :func:`plot_roc_curve` is deprecated in 1.0 and will be removed in 1.2. Use one of the class methods: :meth:`sklearn.metric.RocCurveDisplay.from_predictions` or :meth:`sklearn.metric.RocCurveDisplay.from_estimator`.\n",
      "  warnings.warn(msg, category=FutureWarning)\n"
     ]
    },
    {
     "data": {
      "image/png": "[encoded data removed]",
      "text/plain": [
       "<Figure size 432x288 with 1 Axes>"
      ]
     },
     "metadata": {
      "needs_background": "light"
     },
     "output_type": "display_data"
    }
   ],
   "source": [
    "train3_disp = plot_roc_curve(model3, allX, allY50.astype(int))\n",
    "test3_disp = plot_roc_curve(model3, TEST_allX, TEST_allY50.astype(int), ax = train3_disp.ax_)\n",
    "test3_disp.figure_.suptitle('ROC curve')\n",
    "\n",
    "plt.show()"
   ]
  },
  {
   "cell_type": "code",
   "execution_count": 84,
   "id": "8d604175",
   "metadata": {},
   "outputs": [],
   "source": [
    "# Model 4: plus10X, plus10Y50"
   ]
  },
  {
   "cell_type": "code",
   "execution_count": 85,
   "id": "2800df81",
   "metadata": {},
   "outputs": [],
   "source": [
    "model4 = LogisticRegressionCV(cv = 5, scoring = 'roc_auc', n_jobs = -1, max_iter = 500, penalty = 'l2')"
   ]
  },
  {
   "cell_type": "code",
   "execution_count": 86,
   "id": "656bd9e5",
   "metadata": {},
   "outputs": [
    {
     "data": {
      "text/plain": [
       "LogisticRegressionCV(cv=5, max_iter=500, n_jobs=-1, scoring='roc_auc')"
      ]
     },
     "execution_count": 86,
     "metadata": {},
     "output_type": "execute_result"
    }
   ],
   "source": [
    "model4.fit(plus10X, modelplus10Y50)"
   ]
  },
  {
   "cell_type": "code",
   "execution_count": 87,
   "id": "10480ce0",
   "metadata": {},
   "outputs": [
    {
     "data": {
      "text/plain": [
       "0.963616802777642"
      ]
     },
     "execution_count": 87,
     "metadata": {},
     "output_type": "execute_result"
    }
   ],
   "source": [
    "roc_auc_score(plus10Y50.astype(int), model4.predict_proba(plus10X)[:, 1])"
   ]
  },
  {
   "cell_type": "code",
   "execution_count": 88,
   "id": "6629817b",
   "metadata": {},
   "outputs": [
    {
     "data": {
      "text/plain": [
       "0.7973605078516539"
      ]
     },
     "execution_count": 88,
     "metadata": {},
     "output_type": "execute_result"
    }
   ],
   "source": [
    "roc_auc_score(TEST_plus10Y50.astype(int), model4.predict_proba(TEST_plus10X)[:, 1])"
   ]
  },
  {
   "cell_type": "code",
   "execution_count": 89,
   "id": "1c2d79ba",
   "metadata": {},
   "outputs": [
    {
     "name": "stderr",
     "output_type": "stream",
     "text": [
      "/Library/Frameworks/Python.framework/Versions/3.9/lib/python3.9/site-packages/sklearn/utils/deprecation.py:87: FutureWarning: Function plot_roc_curve is deprecated; Function :func:`plot_roc_curve` is deprecated in 1.0 and will be removed in 1.2. Use one of the class methods: :meth:`sklearn.metric.RocCurveDisplay.from_predictions` or :meth:`sklearn.metric.RocCurveDisplay.from_estimator`.\n",
      "  warnings.warn(msg, category=FutureWarning)\n",
      "/Library/Frameworks/Python.framework/Versions/3.9/lib/python3.9/site-packages/sklearn/utils/deprecation.py:87: FutureWarning: Function plot_roc_curve is deprecated; Function :func:`plot_roc_curve` is deprecated in 1.0 and will be removed in 1.2. Use one of the class methods: :meth:`sklearn.metric.RocCurveDisplay.from_predictions` or :meth:`sklearn.metric.RocCurveDisplay.from_estimator`.\n",
      "  warnings.warn(msg, category=FutureWarning)\n"
     ]
    },
    {
     "data": {
      "image/png": "[encoded data removed]",
      "text/plain": [
       "<Figure size 432x288 with 1 Axes>"
      ]
     },
     "metadata": {
      "needs_background": "light"
     },
     "output_type": "display_data"
    }
   ],
   "source": [
    "train4_disp = plot_roc_curve(model4, plus10X, plus10Y50.astype(int))\n",
    "test4_disp = plot_roc_curve(model4, TEST_plus10X, TEST_plus10Y50.astype(int), ax = train4_disp.ax_)\n",
    "test4_disp.figure_.suptitle('ROC curve')\n",
    "\n",
    "plt.show()"
   ]
  },
  {
   "cell_type": "code",
   "execution_count": null,
   "id": "83b556ce",
   "metadata": {},
   "outputs": [],
   "source": []
  }
 ],
 "metadata": {
  "kernelspec": {
   "display_name": "Python 3 (ipykernel)",
   "language": "python",
   "name": "python3"
  },
  "language_info": {
   "codemirror_mode": {
    "name": "ipython",
    "version": 3
   },
   "file_extension": ".py",
   "mimetype": "text/x-python",
   "name": "python",
   "nbconvert_exporter": "python",
   "pygments_lexer": "ipython3",
   "version": "3.9.2"
  }
 },
 "nbformat": 4,
 "nbformat_minor": 5
}
